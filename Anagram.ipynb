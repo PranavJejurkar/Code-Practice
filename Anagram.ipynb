{
 "cells": [
  {
   "cell_type": "code",
   "execution_count": 6,
   "id": "fdc989a3",
   "metadata": {},
   "outputs": [
    {
     "name": "stdout",
     "output_type": "stream",
     "text": [
      "str1 and str2 is anagram\n"
     ]
    }
   ],
   "source": [
    "# first we take function with two argument\n",
    "def Anagram(str1,str2):\n",
    "    if sorted(str1)==sorted(str2):\n",
    "        print(\"str1 and str2 is anagram\")\n",
    "    else:\n",
    "        print(\"not anagram\")\n",
    "\n",
    "str1= \"pappa\"\n",
    "str2 = \"ppapa\"\n",
    "\n",
    "Anagram(str1,str2)\n"
   ]
  },
  {
   "cell_type": "code",
   "execution_count": null,
   "id": "32d23cfd",
   "metadata": {},
   "outputs": [],
   "source": [
    "()"
   ]
  }
 ],
 "metadata": {
  "kernelspec": {
   "display_name": "Python 3 (ipykernel)",
   "language": "python",
   "name": "python3"
  },
  "language_info": {
   "codemirror_mode": {
    "name": "ipython",
    "version": 3
   },
   "file_extension": ".py",
   "mimetype": "text/x-python",
   "name": "python",
   "nbconvert_exporter": "python",
   "pygments_lexer": "ipython3",
   "version": "3.9.13"
  }
 },
 "nbformat": 4,
 "nbformat_minor": 5
}
